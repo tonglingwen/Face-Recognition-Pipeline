{
  "nbformat": 4,
  "nbformat_minor": 0,
  "metadata": {
    "colab": {
      "name": "Face Recognition.ipynb",
      "provenance": [],
      "collapsed_sections": [],
      "toc_visible": true,
      "machine_shape": "hm",
      "authorship_tag": "ABX9TyOt82S0FFDI0yikCsOhIDJ3",
      "include_colab_link": true
    },
    "kernelspec": {
      "name": "python3",
      "display_name": "Python 3"
    },
    "accelerator": "GPU"
  },
  "cells": [
    {
      "cell_type": "markdown",
      "metadata": {
        "id": "view-in-github",
        "colab_type": "text"
      },
      "source": [
        "<a href=\"https://colab.research.google.com/github/Valentinkvn/Face-Recognition-Pipeline/blob/master/Face_Recognition.ipynb\" target=\"_parent\"><img src=\"https://colab.research.google.com/assets/colab-badge.svg\" alt=\"Open In Colab\"/></a>"
      ]
    },
    {
      "cell_type": "markdown",
      "metadata": {
        "id": "HJC8Dz755j8t",
        "colab_type": "text"
      },
      "source": [
        "# Import libraries\n"
      ]
    },
    {
      "cell_type": "code",
      "metadata": {
        "id": "vSxZuboFweUO",
        "colab_type": "code",
        "colab": {}
      },
      "source": [
        "from sklearn.model_selection import train_test_split\n",
        "from sklearn.model_selection import GridSearchCV\n",
        "from sklearn.datasets import fetch_lfw_people\n",
        "from sklearn.model_selection import train_test_split\n",
        "\n",
        "import torch\n",
        "import torch.nn as nn\n",
        "import torch.nn.functional as F\n",
        "import torch.optim as optim\n",
        "from torchvision import datasets, transforms\n",
        "from torch import cuda\n",
        "\n",
        "\n",
        "import matplotlib.pyplot as plt\n",
        "import numpy as np\n",
        "\n",
        "from skimage.transform import resize\n",
        "\n",
        "from torch.utils import data\n",
        "\n",
        "from torchvision import datasets\n",
        "from torch.utils.data import DataLoader\n",
        "\n",
        "import sklearn"
      ],
      "execution_count": 0,
      "outputs": []
    },
    {
      "cell_type": "code",
      "metadata": {
        "id": "U9aLNK-oxoBO",
        "colab_type": "code",
        "outputId": "7753b2ac-0fc1-444b-aca5-bcab3800eb00",
        "colab": {
          "base_uri": "https://localhost:8080/",
          "height": 222
        }
      },
      "source": [
        "!pip install facenet-pytorch"
      ],
      "execution_count": 0,
      "outputs": [
        {
          "output_type": "stream",
          "text": [
            "Collecting facenet-pytorch\n",
            "\u001b[?25l  Downloading https://files.pythonhosted.org/packages/58/26/9dbb553500bff164cdcd491785cfe55dcbb34b431d44f655640476db8d82/facenet_pytorch-2.2.9-py3-none-any.whl (1.9MB)\n",
            "\u001b[K     |████████████████████████████████| 1.9MB 4.6MB/s \n",
            "\u001b[?25hRequirement already satisfied: requests in /usr/local/lib/python3.6/dist-packages (from facenet-pytorch) (2.21.0)\n",
            "Requirement already satisfied: numpy in /usr/local/lib/python3.6/dist-packages (from facenet-pytorch) (1.18.2)\n",
            "Requirement already satisfied: urllib3<1.25,>=1.21.1 in /usr/local/lib/python3.6/dist-packages (from requests->facenet-pytorch) (1.24.3)\n",
            "Requirement already satisfied: certifi>=2017.4.17 in /usr/local/lib/python3.6/dist-packages (from requests->facenet-pytorch) (2019.11.28)\n",
            "Requirement already satisfied: chardet<3.1.0,>=3.0.2 in /usr/local/lib/python3.6/dist-packages (from requests->facenet-pytorch) (3.0.4)\n",
            "Requirement already satisfied: idna<2.9,>=2.5 in /usr/local/lib/python3.6/dist-packages (from requests->facenet-pytorch) (2.8)\n",
            "Installing collected packages: facenet-pytorch\n",
            "Successfully installed facenet-pytorch-2.2.9\n"
          ],
          "name": "stdout"
        }
      ]
    },
    {
      "cell_type": "markdown",
      "metadata": {
        "id": "xg8jkWl15rZT",
        "colab_type": "text"
      },
      "source": [
        "# Import dataset"
      ]
    },
    {
      "cell_type": "markdown",
      "metadata": {
        "id": "GSf5BwfZ50Se",
        "colab_type": "text"
      },
      "source": [
        "## Import LFW\n"
      ]
    },
    {
      "cell_type": "code",
      "metadata": {
        "id": "ns_WiIu6v8h_",
        "colab_type": "code",
        "outputId": "1e1310b7-f1f7-4373-ed3a-2bb4ac99ac15",
        "colab": {
          "base_uri": "https://localhost:8080/",
          "height": 436
        }
      },
      "source": [
        "min_faces = 2\n",
        "first_run = True\n",
        "import_custom = True\n",
        "\n",
        "lfw_people = fetch_lfw_people(min_faces_per_person=min_faces, color = True, slice_=(slice(0,224),slice(0,224)))\n",
        "\n",
        "# introspect the images arrays to find the shapes (for plotting)\n",
        "n_samples, h, w, channels = lfw_people.images.shape\n",
        "\n",
        "# for machine learning we use the 2 data directly (as relative pixel\n",
        "# positions info is ignored by this model)\n",
        "X = lfw_people.data\n",
        "n_features = X.shape[1]\n",
        "\n",
        "# the label to predict is the id of the person\n",
        "y = lfw_people.target\n",
        "target_names = lfw_people.target_names\n",
        "n_classes = target_names.shape[0]\n",
        "\n",
        "print(\"Total dataset size:\")\n",
        "print(\"n_samples: %d\" % n_samples)\n",
        "print(\"n_features: %d\" % n_features)\n",
        "print(\"n_classes: %d\" % n_classes)\n",
        "\n",
        "X = X.reshape(n_samples, h, w, channels)\n",
        "\n",
        "X = X.astype(np.uint8)\n",
        "# X_data = np.zeros((len(X),224,224, X[0].shape[2]),dtype=np.uint8)\n",
        "\n",
        "# # resize the images to 224x224, format friendly for mobilenetv2\n",
        "# for i in range(len(X)):\n",
        "#     X_data[i] = resize(X[i], output_shape=(224,224)).astype(np.uint8)\n",
        "\n",
        "print(\"The shape of images is:\", X[0].shape)\n",
        "plt.imshow(X[33])\n",
        "\n",
        "print(target_names[y[33]])"
      ],
      "execution_count": 0,
      "outputs": [
        {
          "output_type": "stream",
          "text": [
            "Downloading LFW metadata: https://ndownloader.figshare.com/files/5976012\n",
            "Downloading LFW metadata: https://ndownloader.figshare.com/files/5976009\n",
            "Downloading LFW metadata: https://ndownloader.figshare.com/files/5976006\n",
            "Downloading LFW data (~200MB): https://ndownloader.figshare.com/files/5976015\n"
          ],
          "name": "stderr"
        },
        {
          "output_type": "stream",
          "text": [
            "Total dataset size:\n",
            "n_samples: 9164\n",
            "n_features: 37632\n",
            "n_classes: 1680\n",
            "The shape of images is: (112, 112, 3)\n",
            "George W Bush\n"
          ],
          "name": "stdout"
        },
        {
          "output_type": "display_data",
          "data": {
            "image/png": "[encoded data removed]",
            "text/plain": [
              "<Figure size 432x288 with 1 Axes>"
            ]
          },
          "metadata": {
            "tags": []
          }
        }
      ]
    },
    {
      "cell_type": "code",
      "metadata": {
        "id": "3OlKw51gxFkN",
        "colab_type": "code",
        "colab": {}
      },
      "source": [
        "\"\"\"\n",
        "    Override the Dataset class with a custom one\n",
        "\"\"\"\n",
        "\n",
        "class Dataset(data.Dataset):\n",
        "  'Characterizes a dataset for PyTorch'\n",
        "  def __init__(self, list_IMGs, labels, transform=None):\n",
        "        'Initialization'\n",
        "        self.labels = labels\n",
        "        self.list_IMGs = list_IMGs\n",
        "        self.transform = transform\n",
        "\n",
        "  def __len__(self):\n",
        "        'Denotes the total number of samples'\n",
        "        return len(self.list_IMGs)\n",
        "\n",
        "  def __getitem__(self, index):\n",
        "        'Generates one sample of data'\n",
        "        IMG = self.list_IMGs[index]\n",
        "        # Select sample\n",
        "        if self.transform:\n",
        "            IMG = self.transform(IMG)\n",
        "        \n",
        "        y = self.labels[index]\n",
        "        return IMG, y"
      ],
      "execution_count": 0,
      "outputs": []
    },
    {
      "cell_type": "markdown",
      "metadata": {
        "id": "goEUWfBZDRsb",
        "colab_type": "text"
      },
      "source": [
        "# Apply MTCNN on each image to extract the face"
      ]
    },
    {
      "cell_type": "code",
      "metadata": {
        "id": "a5P9dNWzv0Eh",
        "colab_type": "code",
        "outputId": "e411d4c5-7c00-4781-9cfd-d1f462a6e97a",
        "colab": {
          "base_uri": "https://localhost:8080/",
          "height": 1000
        }
      },
      "source": [
        "from facenet_pytorch import MTCNN\n",
        "from PIL import Image\n",
        "\n",
        "# Dataloader iterators, make sure to shuffle\n",
        "generator = {\n",
        "    'data': DataLoader(Dataset(X, y), batch_size=64, shuffle=True),\n",
        "}\n",
        "\n",
        "all_imgs = []\n",
        "all_labels = []\n",
        "\n",
        "# initialize the MTCNN detector\n",
        "mtcnn = MTCNN(image_size=224, margin=0)\n",
        "\n",
        "for ii, (data, target) in enumerate(generator['data']):\n",
        "\n",
        "    X_data_out = mtcnn(data.numpy())\n",
        "\n",
        "    # print(target.shape)\n",
        "    all_imgs.extend(X_data_out)\n",
        "    all_labels.extend(target.numpy())\n",
        "\n",
        "    print (\"{0:.0%}\".format(len(all_labels)/len(y)))\n",
        "    "
      ],
      "execution_count": 0,
      "outputs": [
        {
          "output_type": "stream",
          "text": [
            "1%\n",
            "1%\n",
            "2%\n",
            "3%\n",
            "3%\n",
            "4%\n",
            "5%\n",
            "6%\n",
            "6%\n",
            "7%\n",
            "8%\n",
            "8%\n",
            "9%\n",
            "10%\n",
            "10%\n",
            "11%\n",
            "12%\n",
            "13%\n",
            "13%\n",
            "14%\n",
            "15%\n",
            "15%\n",
            "16%\n",
            "17%\n",
            "17%\n",
            "18%\n",
            "19%\n",
            "20%\n",
            "20%\n",
            "21%\n",
            "22%\n",
            "22%\n",
            "23%\n",
            "24%\n",
            "24%\n",
            "25%\n",
            "26%\n",
            "27%\n",
            "27%\n",
            "28%\n",
            "29%\n",
            "29%\n",
            "30%\n",
            "31%\n",
            "31%\n",
            "32%\n",
            "33%\n",
            "34%\n",
            "34%\n",
            "35%\n",
            "36%\n",
            "36%\n",
            "37%\n",
            "38%\n",
            "38%\n",
            "39%\n",
            "40%\n",
            "41%\n",
            "41%\n",
            "42%\n",
            "43%\n",
            "43%\n",
            "44%\n",
            "45%\n",
            "45%\n",
            "46%\n",
            "47%\n",
            "47%\n",
            "48%\n",
            "49%\n",
            "50%\n",
            "50%\n",
            "51%\n",
            "52%\n",
            "52%\n",
            "53%\n",
            "54%\n",
            "54%\n",
            "55%\n",
            "56%\n",
            "57%\n",
            "57%\n",
            "58%\n",
            "59%\n",
            "59%\n",
            "60%\n",
            "61%\n",
            "61%\n",
            "62%\n",
            "63%\n",
            "64%\n",
            "64%\n",
            "65%\n",
            "66%\n",
            "66%\n",
            "67%\n",
            "68%\n",
            "68%\n",
            "69%\n",
            "70%\n",
            "71%\n",
            "71%\n",
            "72%\n",
            "73%\n",
            "73%\n",
            "74%\n",
            "75%\n",
            "75%\n",
            "76%\n",
            "77%\n",
            "78%\n",
            "78%\n",
            "79%\n",
            "80%\n",
            "80%\n",
            "81%\n",
            "82%\n",
            "82%\n",
            "83%\n",
            "84%\n",
            "85%\n",
            "85%\n",
            "86%\n",
            "87%\n",
            "87%\n",
            "88%\n",
            "89%\n",
            "89%\n",
            "90%\n",
            "91%\n",
            "91%\n",
            "92%\n",
            "93%\n",
            "94%\n",
            "94%\n",
            "95%\n",
            "96%\n",
            "96%\n",
            "97%\n",
            "98%\n",
            "98%\n",
            "99%\n",
            "100%\n",
            "100%\n"
          ],
          "name": "stdout"
        }
      ]
    },
    {
      "cell_type": "code",
      "metadata": {
        "id": "ozS7sMin2Z9Q",
        "colab_type": "code",
        "outputId": "7a68d76b-d510-42d7-b72f-d54309eb542d",
        "colab": {
          "base_uri": "https://localhost:8080/",
          "height": 286
        }
      },
      "source": [
        "\"\"\"\n",
        "    Convert in lists\n",
        "\"\"\"\n",
        "\n",
        "img_aligned = []\n",
        "labels_aligned = []\n",
        "\n",
        "for i in range(len(all_imgs)):\n",
        "    if (all_imgs[i] != None):\n",
        "        img_aligned.append((all_imgs[i].numpy() * 255).round().astype(np.uint8))\n",
        "        labels_aligned.append(all_labels[i])\n",
        "    else:\n",
        "        print(\"hlh at\", i)\n",
        "\n",
        "X_data = np.transpose(img_aligned, (0,2,3,1)).astype(np.uint8)\n",
        "\n",
        "plt.imshow(X_data[2])\n"
      ],
      "execution_count": 0,
      "outputs": [
        {
          "output_type": "execute_result",
          "data": {
            "text/plain": [
              "<matplotlib.image.AxesImage at 0x7f0f34711438>"
            ]
          },
          "metadata": {
            "tags": []
          },
          "execution_count": 7
        },
        {
          "output_type": "display_data",
          "data": {
            "image/png": "[encoded data removed]",
            "text/plain": [
              "<Figure size 432x288 with 1 Axes>"
            ]
          },
          "metadata": {
            "tags": []
          }
        }
      ]
    },
    {
      "cell_type": "markdown",
      "metadata": {
        "id": "VvXq1XHn56uJ",
        "colab_type": "text"
      },
      "source": [
        "## Import custom dataset"
      ]
    },
    {
      "cell_type": "code",
      "metadata": {
        "id": "YOBidL5w53kW",
        "colab_type": "code",
        "outputId": "851f86c7-dae7-4d5d-b705-987fc2650a27",
        "colab": {
          "base_uri": "https://localhost:8080/",
          "height": 50
        }
      },
      "source": [
        "\"\"\"\n",
        "    Import new data (images + labels) from google drive \n",
        "\"\"\"\n",
        "\n",
        "import os\n",
        "from google.colab import drive\n",
        "\n",
        "import_custom = True\n",
        "\n",
        "def import_images(show_them=False):\n",
        "\n",
        "    data_path = 'gdrive/My Drive/Colab Notebooks/Transfer Learning/Data'\n",
        "\n",
        "    data = os.listdir(data_path)\n",
        "\n",
        "    # create the labels list for the custom data\n",
        "    labels = []\n",
        "    # create the image list in which the images will be appended\n",
        "    img_list = []\n",
        "\n",
        "    for folder in data:\n",
        "        imgs_path = []\n",
        "        # append the folder name to the labels (ie. the class number)\n",
        "        \n",
        "        # get the path to the images\n",
        "        imgs_path = data_path + \"/\" + folder\n",
        "        files = os.listdir(imgs_path)\n",
        "        # iterate through all the images in a class\n",
        "        for file in files:\n",
        "            image = Image.open(imgs_path + \"/\" + file)\n",
        "            # # print(image.size)\n",
        "            # if image.size != (1200,1600):\n",
        "            #     # print(\"found one\")\n",
        "            #     image = image.resize((1200,1600))\n",
        "            # print(image.size)\n",
        "            labels.append(int(folder))\n",
        "            img_list.append(image)\n",
        "    \n",
        "    # initialize the MTCNN detector\n",
        "    mtcnn = MTCNN(image_size=224, margin=0)\n",
        "\n",
        "    # feed images list to MTCNN network\n",
        "    images_output = mtcnn(img_list)\n",
        "\n",
        "    print(len(images_output))\n",
        "\n",
        "    # img_cropped = np.zeros((len(images_output), 3, 224, 224))\n",
        "    img_cropped = []\n",
        "\n",
        "    for i in range(len(images_output)):\n",
        "        # img_cropped[i] = (images_output[i].numpy() * 255).round().astype(np.uint8)\n",
        "        img_cropped.append((images_output[i].numpy() * 255).round().astype(np.uint8))\n",
        "\n",
        "    return np.transpose(img_cropped, (0,2,3,1)).astype(np.uint8), labels\n",
        "\n",
        "\n",
        "def concatenate_datasets(x, y,first_run=True):\n",
        "    if first_run == True:        \n",
        "        X_data = np.concatenate((x, X_custom))\n",
        "        labels_aligned = np.concatenate((y, y_custom))\n",
        "        first_run = False\n",
        "    return X_data, labels_aligned\n",
        "\n",
        "if import_custom == True:\n",
        "    drive.mount('/content/gdrive')\n",
        "    X_custom, y_custom = import_images()\n",
        "    X_data, labels_aligned = concatenate_datasets(X_data, labels_aligned)"
      ],
      "execution_count": 0,
      "outputs": [
        {
          "output_type": "stream",
          "text": [
            "Drive already mounted at /content/gdrive; to attempt to forcibly remount, call drive.mount(\"/content/gdrive\", force_remount=True).\n",
            "11\n"
          ],
          "name": "stdout"
        }
      ]
    },
    {
      "cell_type": "markdown",
      "metadata": {
        "id": "4PdNAtWTFNbC",
        "colab_type": "text"
      },
      "source": [
        "# Split, transforms and Dataloaders"
      ]
    },
    {
      "cell_type": "code",
      "metadata": {
        "id": "boQOa_plZEbD",
        "colab_type": "code",
        "outputId": "8212fceb-1af4-4491-e0d8-17a4e6ee0eb8",
        "colab": {
          "base_uri": "https://localhost:8080/",
          "height": 50
        }
      },
      "source": [
        "\"\"\"\n",
        "    Split the data into train, validation and test datasets\n",
        "\"\"\"\n",
        "\n",
        "print(len(X_data))\n",
        "print(len(labels_aligned))\n",
        "\n",
        "x_train, x_test, y_train, y_test = train_test_split(X_data, labels_aligned, test_size = 0.3)\n",
        "x_test, x_valid, y_test, y_valid = train_test_split(x_test, y_test, test_size = 0.5)    "
      ],
      "execution_count": 0,
      "outputs": [
        {
          "output_type": "stream",
          "text": [
            "9175\n",
            "9175\n"
          ],
          "name": "stdout"
        }
      ]
    },
    {
      "cell_type": "code",
      "metadata": {
        "id": "o8iBtLKQcsBR",
        "colab_type": "code",
        "colab": {}
      },
      "source": [
        "\"\"\"\n",
        "    Implement the transforms for each of the datasets\n",
        "\"\"\"\n",
        "\n",
        "from torchvision import transforms\n",
        "\n",
        "# Image transformations\n",
        "image_transforms = {\n",
        "    # Train uses data augmentation\n",
        "    'train':\n",
        "    transforms.Compose([\n",
        "        transforms.ToPILImage(),\n",
        "        # transforms.RandomResizedCrop(size=256, scale=(0.8, 1.0)),\n",
        "        # transforms.RandomRotation(degrees=15),\n",
        "        # transforms.ColorJitter(),\n",
        "        # transforms.RandomHorizontalFlip(),\n",
        "        # transforms.CenterCrop(size=224),  # Image net standards\n",
        "        transforms.ToTensor(),\n",
        "        transforms.Normalize([0.485, 0.456, 0.406],\n",
        "                             [0.229, 0.224, 0.225])  # Imagenet standards\n",
        "    ]),\n",
        "    # Validation does not use augmentation\n",
        "    'valid':\n",
        "    transforms.Compose([\n",
        "        transforms.ToPILImage(),\n",
        "        # transforms.Resize(size=256),\n",
        "        # transforms.CenterCrop(size=224),\n",
        "        transforms.ToTensor(),\n",
        "        transforms.Normalize([0.485, 0.456, 0.406], \n",
        "                             [0.229, 0.224, 0.225])\n",
        "    ]),\n",
        "        # Test does not use augmentation\n",
        "    'test':\n",
        "    transforms.Compose([\n",
        "        transforms.ToPILImage(),\n",
        "        # transforms.Resize(size=256),\n",
        "        # transforms.CenterCrop(size=224),\n",
        "        transforms.ToTensor(),\n",
        "        transforms.Normalize([0.485, 0.456, 0.406], \n",
        "                             [0.229, 0.224, 0.225])\n",
        "    ]),\n",
        "    'custom':\n",
        "    transforms.Compose([\n",
        "        transforms.ToPILImage(),\n",
        "        transforms.CenterCrop(size=224),  # Image net standards\n",
        "        transforms.ToTensor(),\n",
        "        transforms.Normalize([0.485, 0.456, 0.406],\n",
        "                             [0.229, 0.224, 0.225])  # Imagenet standards\n",
        "    ])\n",
        "}"
      ],
      "execution_count": 0,
      "outputs": []
    },
    {
      "cell_type": "code",
      "metadata": {
        "id": "kKvtGM1pFGqU",
        "colab_type": "code",
        "colab": {}
      },
      "source": [
        "# \"\"\"\n",
        "#     Compute the transforms\n",
        "# \"\"\"\n",
        "\n",
        "# train_transform = image_transforms['train']\n",
        "# valid_transform = image_transforms['valid']\n",
        "# test_transform = image_transforms['test']\n",
        "\n",
        "# x_train_transf = torch.zeros(len(x_train), x_train[0].shape[2], x_train[0].shape[0], x_train[0].shape[1])\n",
        "# x_valid_transf = torch.zeros(len(x_valid), x_train[0].shape[2], x_train[0].shape[0], x_train[0].shape[1])\n",
        "# x_test_transf = torch.zeros(len(x_test), x_train[0].shape[2], x_train[0].shape[0], x_train[0].shape[1])\n",
        "\n",
        "# print(\"Applying transforms...\")\n",
        "# for i in range(len(x_train)):\n",
        "#     x_train_transf[i] = train_transform(x_train[i])\n",
        "# print(\"Train transforms applied\")\n",
        "\n",
        "# for i in range(len(x_valid)):\n",
        "#     x_valid_transf[i] = valid_transform(x_valid[i])\n",
        "# print(\"Validation transforms applied\")\n",
        "\n",
        "# for i in range(len(x_test)):\n",
        "#     x_test_transf[i] = test_transform(x_test[i])\n",
        "# print(\"Test transforms applied\")"
      ],
      "execution_count": 0,
      "outputs": []
    },
    {
      "cell_type": "code",
      "metadata": {
        "id": "2bGNq0teiS3c",
        "colab_type": "code",
        "colab": {}
      },
      "source": [
        "\"\"\"\n",
        "    Generate the dataloaders\n",
        "\"\"\"\n",
        "\n",
        "from torchvision import datasets\n",
        "from torch.utils.data import DataLoader\n",
        "\n",
        "batch_size = 128\n",
        "\n",
        "data = {\n",
        "    'train': Dataset(x_train, y_train, image_transforms['train']),\n",
        "    'valid': Dataset(x_valid, y_valid, image_transforms['valid']),\n",
        "    'test': Dataset(x_test, y_test, image_transforms['test'])\n",
        "}\n",
        "\n",
        "# Dataloader iterators, make sure to shuffle\n",
        "dataloaders = {\n",
        "    'train': DataLoader(data['train'], batch_size=batch_size, shuffle=True),\n",
        "    'valid': DataLoader(data['valid'], batch_size=batch_size, shuffle=True),\n",
        "    'test': DataLoader(data['test'], batch_size=batch_size, shuffle=True)\n",
        "}"
      ],
      "execution_count": 0,
      "outputs": []
    },
    {
      "cell_type": "markdown",
      "metadata": {
        "id": "8jWONfhnFVqY",
        "colab_type": "text"
      },
      "source": [
        "# Import Mobienetv2 and send it too GPU"
      ]
    },
    {
      "cell_type": "code",
      "metadata": {
        "id": "hF_XpuAq4I1M",
        "colab_type": "code",
        "outputId": "20caea95-7026-4405-903f-0d19d26ccf10",
        "colab": {
          "base_uri": "https://localhost:8080/",
          "height": 34
        }
      },
      "source": [
        "\"\"\"\n",
        "    Import the pretrained MobilenetV2 model with the training done on ImageNet\n",
        "    1000 classes and move the model to Cuda\n",
        "\"\"\"\n",
        "\n",
        "from torchvision import models\n",
        "model = models.mobilenet_v2(pretrained = True)\n",
        "\n",
        "if torch.cuda.is_available():\n",
        "    model.cuda()\n",
        "    print(\"Model sent to cuda\")"
      ],
      "execution_count": 0,
      "outputs": [
        {
          "output_type": "stream",
          "text": [
            "Model sent to cuda\n"
          ],
          "name": "stdout"
        }
      ]
    },
    {
      "cell_type": "code",
      "metadata": {
        "id": "zEu-fy9z_93A",
        "colab_type": "code",
        "colab": {}
      },
      "source": [
        "\"\"\"\n",
        "    Freeze the conv layers\n",
        "\"\"\"\n",
        "for param in model.parameters():\n",
        "    i += 1\n",
        "    param.requires_grad = False"
      ],
      "execution_count": 0,
      "outputs": []
    },
    {
      "cell_type": "code",
      "metadata": {
        "id": "ph_NGzJIAF3A",
        "colab_type": "code",
        "colab": {}
      },
      "source": [
        "\"\"\"\n",
        "    Transfer learning procedure done here with the adding of the last \n",
        "    fully connected layers\n",
        "\"\"\"\n",
        "\n",
        "# model.classifier = nn.Sequential(\n",
        "#     nn.Linear(1280, 256).cuda(), nn.ReLU(), nn.Dropout(0.4),\n",
        "#     nn.Linear(256, 128).cuda())\n",
        "\n",
        "model.classifier = nn.Sequential(\n",
        "    nn.Linear(1280, 128).cuda())\n",
        "\n",
        "# model"
      ],
      "execution_count": 0,
      "outputs": []
    },
    {
      "cell_type": "code",
      "metadata": {
        "id": "i15TaRUkCBep",
        "colab_type": "code",
        "outputId": "b16309c4-d3e3-4e12-c765-6ee9efe28eb6",
        "colab": {
          "base_uri": "https://localhost:8080/",
          "height": 34
        }
      },
      "source": [
        "# Whether to train on a gpu\n",
        "train_on_gpu = cuda.is_available()\n",
        "print(f'Train on gpu: {train_on_gpu}')"
      ],
      "execution_count": 0,
      "outputs": [
        {
          "output_type": "stream",
          "text": [
            "Train on gpu: True\n"
          ],
          "name": "stdout"
        }
      ]
    },
    {
      "cell_type": "code",
      "metadata": {
        "id": "oS_JdmcUpl1W",
        "colab_type": "code",
        "colab": {}
      },
      "source": [
        "def _pairwise_distances(embeddings, squared=False):\n",
        "    \"\"\"Compute the 2D matrix of distances between all the embeddings.\n",
        "\n",
        "    Args:\n",
        "        embeddings: tensor of shape (batch_size, embed_dim)\n",
        "        squared: Boolean. If true, output is the pairwise squared euclidean distance matrix.\n",
        "                 If false, output is the pairwise euclidean distance matrix.\n",
        "\n",
        "    Returns:\n",
        "        pairwise_distances: tensor of shape (batch_size, batch_size)\n",
        "    \"\"\"\n",
        "    # Get the dot product between all embeddings\n",
        "    # shape (batch_size, batch_size)\n",
        "    dot_product = torch.matmul(embeddings, torch.transpose(embeddings, 0, 1))\n",
        "\n",
        "    # Get squared L2 norm for each embedding. We can just take the diagonal of `dot_product`.\n",
        "    # This also provides more numerical stability (the diagonal of the result will be exactly 0).\n",
        "    # shape (batch_size,)\n",
        "    square_norm = torch.diag(dot_product)\n",
        "\n",
        "    # # Compute the pairwise distance matrix as we have:\n",
        "    # # ||a - b||^2 = ||a||^2  - 2 <a, b> + ||b||^2\n",
        "    # # shape (batch_size, batch_size)\n",
        "    distances = square_norm.unsqueeze(0) - 2.0 * dot_product + square_norm.unsqueeze(1)\n",
        "\n",
        "    # # Because of computation errors, some distances might be negative so we put everything >= 0.0\n",
        "    distances = torch.max(distances, torch.tensor(0.0).cuda())\n",
        "\n",
        "    if not squared:\n",
        "        # Because the gradient of sqrt is infinite when distances == 0.0 (ex: on the diagonal)\n",
        "        # we need to add a small epsilon where distances == 0.0\n",
        "        mask = distances.eq(torch.tensor(0.0)).cuda().double()\n",
        "        distances = distances + mask * 1e-16\n",
        "        distances = torch.sqrt(distances)\n",
        "        \n",
        "        # Correct the epsilon added: set the distances on the mask to be exactly 0.0\n",
        "        distances = distances * (1.0 - mask)\n",
        "\n",
        "    return distances\n",
        "\n",
        "def _get_anchor_positive_triplet_mask(labels):\n",
        "    \"\"\"Return a 2D mask where mask[a, p] is True iff a and p are distinct and have same label.\n",
        "    Args:\n",
        "        labels: `Tensor` with shape [batch_size]\n",
        "    Returns:\n",
        "        mask: `Tensor` with shape [batch_size, batch_size]\n",
        "    \"\"\"\n",
        "    # Check that i and j are distinct\n",
        "    indices_equal = (torch.eye(labels.shape[0])).bool()\n",
        "    indices_not_equal = torch.logical_not(indices_equal)\n",
        "\n",
        "    # # Check if labels[i] == labels[j]\n",
        "    # # Uses broadcasting where the 1st argument has shape (1, batch_size) and the 2nd (batch_size, 1)\n",
        "    labels_equal = torch.eq(labels.unsqueeze(0), labels.unsqueeze(1))\n",
        "\n",
        "    # # Combine the two masks\n",
        "    mask = indices_not_equal.cuda() & labels_equal\n",
        "    return mask.double()\n",
        "\n",
        "def _get_anchor_negative_triplet_mask(labels):\n",
        "    \"\"\"Return a 2D mask where mask[a, n] is True iff a and n have distinct labels.\n",
        "    Args:\n",
        "        labels: `Tensor` with shape [batch_size]\n",
        "    Returns:\n",
        "        mask:`Tensor` with shape [batch_size, batch_size]\n",
        "    \"\"\"\n",
        "    # Check if labels[i] != labels[k]\n",
        "    # Uses broadcasting where the 1st argument has shape (1, batch_size) and the 2nd (batch_size, 1)\n",
        "    labels_equal = torch.eq(labels.unsqueeze(0), labels.unsqueeze(1))\n",
        "\n",
        "    return torch.logical_not(labels_equal).double()\n",
        "\n",
        "def batch_hard_triplet_loss(labels, embeddings, margin=0.2, squared=False):\n",
        "\n",
        "    \"\"\"Build the triplet loss over a batch of embeddings.\n",
        "\n",
        "    For each anchor, we get the hardest positive and hardest negative to form a triplet.\n",
        "\n",
        "    Args:\n",
        "        labels: labels of the batch, of size (batch_size,)\n",
        "        embeddings: tensor of shape (batch_size, embed_dim)\n",
        "        margin: margin for triplet loss\n",
        "        squared: Boolean. If true, output is the pairwise squared euclidean distance matrix.\n",
        "                 If false, output is the pairwise euclidean distance matrix.\n",
        "\n",
        "    Returns:\n",
        "        triplet_loss: scalar tensor containing the triplet loss\n",
        "    \"\"\"\n",
        "    # Get the pairwise distance matrix\n",
        "    pairwise_dist = _pairwise_distances(embeddings, squared=squared)\n",
        "\n",
        "    # For each anchor, get the hardest positive\n",
        "    # First, we need to get a mask for every valid positive (they should have same label)\n",
        "    mask_anchor_positive = _get_anchor_positive_triplet_mask(labels)\n",
        "\n",
        "    # We put to 0 any element where (a, p) is not valid (valid if a != p and label(a) == label(p))\n",
        "    anchor_positive_dist = torch.mul(mask_anchor_positive, pairwise_dist)\n",
        "\n",
        "    # shape (batch_size, 1)\n",
        "    hardest_positive_dist = torch.max(anchor_positive_dist, axis=1, keepdims=True).values\n",
        "\n",
        "    # For each anchor, get the hardest negative\n",
        "    # First, we need to get a mask for every valid negative (they should have different labels)\n",
        "    mask_anchor_negative = _get_anchor_negative_triplet_mask(labels)\n",
        "\n",
        "    # We add the maximum value in each row to the invalid negatives (label(a) == label(n))\n",
        "    max_anchor_negative_dist = torch.max(pairwise_dist, axis=1, keepdims=True).values\n",
        "    anchor_negative_dist = pairwise_dist + max_anchor_negative_dist * (torch.tensor(1.0) - mask_anchor_negative)\n",
        "\n",
        "    # shape (batch_size,)\n",
        "    hardest_negative_dist = torch.min(anchor_negative_dist, axis=1, keepdims=True).values\n",
        "\n",
        "    # Combine biggest d(a, p) and smallest d(a, n) into final triplet loss\n",
        "    basic_loss = hardest_positive_dist - hardest_negative_dist + margin\n",
        "    triplet_loss = torch.max(basic_loss, torch.tensor(0.0).double().cuda())\n",
        "\n",
        "    # Get final mean triplet loss\n",
        "    triplet_loss = torch.mean(triplet_loss)\n",
        "\n",
        "    return triplet_loss"
      ],
      "execution_count": 0,
      "outputs": []
    },
    {
      "cell_type": "code",
      "metadata": {
        "id": "RKDZYc1tDQUG",
        "colab_type": "code",
        "colab": {}
      },
      "source": [
        "def save_embeddings():\n",
        "    \"\"\"\n",
        "        Save the embeddings of all identities from the training set\n",
        "    \"\"\"\n",
        "    all_ids = list(set(y_train))\n",
        "    train_transform = image_transforms['train']\n",
        "    # we will use 2 tensors, one for the mean of the images embeddings\n",
        "    # and one for the class of those stored embeddings\n",
        "    embd_arr_data = torch.randn(len(all_ids), 128)\n",
        "    embd_arr_class = torch.randn(len(all_ids))\n",
        "    cos = nn.CosineSimilarity(dim=0, eps=1e-6)\n",
        "    with torch.no_grad():\n",
        "        model.eval()\n",
        "        for i in range(len(all_ids)):\n",
        "            # get the index of the first min_faces occurences of the class all_ids[i]\n",
        "            img_per_class = np.count_nonzero(y_train == all_ids[i])\n",
        "            \n",
        "            # print(img_per_class)\n",
        "            idx = np.where(y_train == all_ids[i])[0][0:img_per_class]\n",
        "\n",
        "            # store the class number\n",
        "            embd_arr_class[i] = torch.tensor(all_ids[i])\n",
        "\n",
        "            if len(idx) > 1:\n",
        "                \n",
        "                # create a stacked tensor of the first 2 images\n",
        "                first_tensor = train_transform(x_train[idx[0]])\n",
        "                second_tensor = train_transform(x_train[idx[1]])\n",
        "                input_tensor = torch.stack([first_tensor, second_tensor])\n",
        "\n",
        "                # if there are more than 2 images per class, the concatenate\n",
        "                # the new images to the input_tensor\n",
        "                if len(idx) > 2:\n",
        "                    for j in range(2,len(idx)):\n",
        "                        nth_tensor = train_transform(x_train[idx[j]])\n",
        "                        input_tensor = torch.cat([input_tensor,\n",
        "                                                nth_tensor.unsqueeze(0)])\n",
        "\n",
        "                # get the actual embeddings\n",
        "                # print(input_tensor.shape)\n",
        "                input_embd = model(input_tensor.cuda())\n",
        "                \n",
        "                # store the actual embedding by computing the mean of the embeddings\n",
        "                embd_arr_data[i] = torch.mean(input_embd,dim=0).cpu()\n",
        "                # if (len(idx) > 3):\n",
        "                #     print(cos(input_embd[2].cpu(),embd_arr_data[i]) < 0.90)\n",
        "                #     print(cos(input_embd[3].cpu(), embd_arr_data[i]) < 0.90)\n",
        "            # else if there is only one image per class\n",
        "            else:\n",
        "                input_tensor = train_transform(x_train[idx[0]])\n",
        "                embd_arr_data[i] = model(input_tensor.unsqueeze(0).cuda())\n",
        "\n",
        "    return embd_arr_data, embd_arr_class\n",
        "\n",
        "# embd_arr_d, embd_arr_c = save_embeddings()"
      ],
      "execution_count": 0,
      "outputs": []
    },
    {
      "cell_type": "code",
      "metadata": {
        "id": "hwoFRnHTQ3sX",
        "colab_type": "code",
        "colab": {}
      },
      "source": [
        "def plot_loss(loss: list, label: str, color: str = 'blue'):\n",
        "        \"\"\"Plot the evolution of the loss function\"\"\"\n",
        "        plt.plot(loss, label=label, color=color)\n",
        "        plt.legend()"
      ],
      "execution_count": 0,
      "outputs": []
    },
    {
      "cell_type": "code",
      "metadata": {
        "id": "X7BnGkmgLwmX",
        "colab_type": "code",
        "outputId": "1fc41b3b-ed1d-457a-f681-3e6b02fa2bdf",
        "colab": {
          "base_uri": "https://localhost:8080/",
          "height": 773
        }
      },
      "source": [
        "def train_valid(n_epochs = 10, training_type = 'train-valid'):\n",
        "\n",
        "    # use the Adam optimizer\n",
        "    optim = torch.optim.SGD(model.parameters(), lr=0.01)\n",
        "\n",
        "    train_loss = np.zeros(n_epochs)\n",
        "    train_acc = np.zeros(n_epochs)\n",
        "    valid_loss = np.zeros(n_epochs)\n",
        "    valid_acc = np.zeros(n_epochs)\n",
        "\n",
        "    for epoch in range(n_epochs):\n",
        "        \n",
        "        train_count = 0\n",
        "        valid_count = 0\n",
        "        if training_type == 'train-valid' or training_type == 'train':\n",
        "            train_count = 0\n",
        "            for ii, (data, target) in enumerate(dataloaders['train']):\n",
        "                # set the model on train\n",
        "                model.train()\n",
        "                # check if cuda available\n",
        "                if train_on_gpu:\n",
        "                    data, target = data.cuda(), target.cuda()\n",
        "                # put gradients to 0\n",
        "                optim.zero_grad()\n",
        "                # get the embeddings for our data\n",
        "                embeddings = model(data)\n",
        "\n",
        "                loss = batch_hard_triplet_loss(target, embeddings)\n",
        "                loss.backward()\n",
        "                optim.step()\n",
        "\n",
        "                train_loss[epoch] += loss\n",
        "                # train_acc[epoch] += compute_acc(embeddings, target, embd_arr_d,embd_arr_c)\n",
        "\n",
        "                train_count += 1  \n",
        "            \n",
        "        with torch.no_grad():\n",
        "            if training_type == 'train-valid' or training_type == 'valid':\n",
        "                valid_count = 0\n",
        "                for ii, (data, target) in enumerate(dataloaders['valid']):\n",
        "                    # set the model on eval\n",
        "                    model.eval()\n",
        "                    # check if cuda available\n",
        "                    if train_on_gpu:\n",
        "                        data, target = data.cuda(), target.cuda()\n",
        "                    # get the embeddings for our data\n",
        "                    embeddings = model(data)\n",
        "                    loss = batch_hard_triplet_loss(target, embeddings)\n",
        "\n",
        "                    valid_loss[epoch] += loss\n",
        "                    # valid_acc[epoch] += compute_acc(embeddings, target, embd_arr_d,embd_arr_c)\n",
        "\n",
        "                    valid_count += 1\n",
        "                    # append the loss to the loss array\n",
        "                \n",
        "\n",
        "            train_loss[epoch] /= train_count\n",
        "            # train_acc[epoch] /= train_count\n",
        "            valid_loss[epoch] /= valid_count\n",
        "            # valid_acc[epoch] /= valid_count\n",
        "\n",
        "            print(\n",
        "                f'\\nEpoch: {epoch} \\tTraining Loss: {train_loss[epoch]:.4f} \\tValidation Loss: {valid_loss[epoch]:.4f}'\n",
        "            )\n",
        "            # print(\n",
        "            #     f'\\t\\tTraining Accuracy: {100 * train_acc[epoch]:.2f}%\\t Validation Accuracy: {100 * valid_acc[epoch]:.2f}%'\n",
        "            # )\n",
        "\n",
        "    \n",
        "    if training_type == 'train-valid':\n",
        "        plot_loss(train_loss, 'Train-loss')\n",
        "        plot_loss(valid_loss, 'Valid-loss', 'green')\n",
        "        # plt.figure()\n",
        "        # plot_loss(train_acc, 'Train-accuracy')\n",
        "        # plot_loss(valid_acc, 'Valid-accuracy', 'green')\n",
        "    elif training_type == 'train':\n",
        "        plot_loss(train_loss, 'Train-loss')\n",
        "    else:\n",
        "        plot_loss(valid_loss, 'Valid-loss', 'green')\n",
        "\n",
        "train_valid(n_epochs=15, training_type='train-valid')\n",
        "\n",
        "\n",
        "    "
      ],
      "execution_count": 0,
      "outputs": [
        {
          "output_type": "stream",
          "text": [
            "\n",
            "Epoch: 0 \tTraining Loss: 0.1446 \tValidation Loss: 0.1869\n",
            "\n",
            "Epoch: 1 \tTraining Loss: 0.1444 \tValidation Loss: 0.1823\n",
            "\n",
            "Epoch: 2 \tTraining Loss: 0.1425 \tValidation Loss: 0.1846\n",
            "\n",
            "Epoch: 3 \tTraining Loss: 0.1407 \tValidation Loss: 0.1863\n",
            "\n",
            "Epoch: 4 \tTraining Loss: 0.1362 \tValidation Loss: 0.1810\n",
            "\n",
            "Epoch: 5 \tTraining Loss: 0.1355 \tValidation Loss: 0.1682\n",
            "\n",
            "Epoch: 6 \tTraining Loss: 0.1416 \tValidation Loss: 0.1783\n",
            "\n",
            "Epoch: 7 \tTraining Loss: 0.1273 \tValidation Loss: 0.1829\n",
            "\n",
            "Epoch: 8 \tTraining Loss: 0.1332 \tValidation Loss: 0.1683\n",
            "\n",
            "Epoch: 9 \tTraining Loss: 0.1291 \tValidation Loss: 0.1713\n",
            "\n",
            "Epoch: 10 \tTraining Loss: 0.1280 \tValidation Loss: 0.1666\n",
            "\n",
            "Epoch: 11 \tTraining Loss: 0.1278 \tValidation Loss: 0.1731\n",
            "\n",
            "Epoch: 12 \tTraining Loss: 0.1281 \tValidation Loss: 0.1718\n",
            "\n",
            "Epoch: 13 \tTraining Loss: 0.1255 \tValidation Loss: 0.1656\n",
            "\n",
            "Epoch: 14 \tTraining Loss: 0.1227 \tValidation Loss: 0.1717\n"
          ],
          "name": "stdout"
        },
        {
          "output_type": "display_data",
          "data": {
            "image/png": "[encoded data removed]",
            "text/plain": [
              "<Figure size 432x288 with 1 Axes>"
            ]
          },
          "metadata": {
            "tags": []
          }
        }
      ]
    },
    {
      "cell_type": "code",
      "metadata": {
        "id": "h441I2FtPJwI",
        "colab_type": "code",
        "colab": {}
      },
      "source": [
        "def compute_acc(data_embd, target, saved_embd_data, saved_embd_classes):\n",
        "\n",
        "    \"\"\" Find the accuracy of an embedding vector \"\"\"\n",
        "    cos = nn.CosineSimilarity(dim=0, eps=1e-6)\n",
        "\n",
        "    data_embd = data_embd.cpu()\n",
        "    target = target.cpu().numpy()\n",
        "\n",
        "    saved_embd_classes = saved_embd_classes.numpy()\n",
        "\n",
        "    n_samples = 0\n",
        "    n_correct = 0\n",
        "\n",
        "    for i in range(len(target)):\n",
        "        # find the index for the target class in predicted_classes\n",
        "        # print(target[i])\n",
        "        \n",
        "        idx = np.where(saved_embd_classes == target[i])[0]\n",
        "        # print(predicted_classes[idx])\n",
        "    \n",
        "        # print(target[i])\n",
        "        if len(idx) > 0:\n",
        "            # print(idx)\n",
        "            n_samples += 1\n",
        "            # print(cos(data_embd[i], saved_embd_data[idx][0]))\n",
        "            # print(predicted_classes[idx])\n",
        "            # print(data_embd[i])\n",
        "            # print(saved_embd_data[idx][0])\n",
        "            # print(cos(data_embd[i], saved_embd_data[idx][0]))\n",
        "            # break\n",
        "            if cos(data_embd[i], saved_embd_data[idx][0]) > 0.5:\n",
        "                n_correct +=1\n",
        "\n",
        "    return n_correct/n_samples"
      ],
      "execution_count": 0,
      "outputs": []
    },
    {
      "cell_type": "code",
      "metadata": {
        "id": "ir7ROIlLHSz-",
        "colab_type": "code",
        "colab": {}
      },
      "source": [
        "torch.cuda.empty_cache()"
      ],
      "execution_count": 0,
      "outputs": []
    },
    {
      "cell_type": "code",
      "metadata": {
        "id": "K69g4uFYEhT4",
        "colab_type": "code",
        "outputId": "eb3fc0d0-5742-422c-d555-9ae5b8822071",
        "colab": {
          "base_uri": "https://localhost:8080/",
          "height": 50
        }
      },
      "source": [
        "embd_arr_d, embd_arr_c = save_embeddings()      \n",
        "\n",
        "test_loss = np.zeros(1)\n",
        "test_acc = np.zeros(1)\n",
        "\n",
        "with torch.no_grad():\n",
        "    test_count = 0\n",
        "    for ii, (data, target) in enumerate(dataloaders['test']):\n",
        "        # set the model on eval\n",
        "        model.eval()\n",
        "        # check if cuda available\n",
        "        if train_on_gpu:\n",
        "            data, target = data.cuda(), target.cuda()\n",
        "\n",
        "        # plt.imshow(np.transpose(data[6].cpu().numpy(),(1,2,0)))\n",
        "        # break\n",
        "        # get the embeddings for our data\n",
        "        embeddings = model(data)\n",
        "        loss = batch_hard_triplet_loss(target, embeddings)\n",
        "\n",
        "        test_loss[0] += loss\n",
        "        # print(embd_arr_d.shape)\n",
        "        test_acc[0] += compute_acc(embeddings, target, embd_arr_d, embd_arr_c)\n",
        "        # break\n",
        "        test_count += 1\n",
        "        # append the loss to the loss array\n",
        "    test_loss /= test_count\n",
        "    test_acc /= test_count\n",
        "\n",
        "    print(test_loss)\n",
        "    print(test_acc)\n",
        "\n"
      ],
      "execution_count": 0,
      "outputs": [
        {
          "output_type": "stream",
          "text": [
            "[0.17231638]\n",
            "[0.97281821]\n"
          ],
          "name": "stdout"
        }
      ]
    },
    {
      "cell_type": "code",
      "metadata": {
        "id": "PxJY9ZBncPHc",
        "colab_type": "code",
        "colab": {}
      },
      "source": [
        ""
      ],
      "execution_count": 0,
      "outputs": []
    },
    {
      "cell_type": "code",
      "metadata": {
        "id": "g50kOGK_cS0F",
        "colab_type": "code",
        "outputId": "248dc9c1-5593-45a7-c2bb-e967808f0726",
        "colab": {
          "base_uri": "https://localhost:8080/",
          "height": 252
        }
      },
      "source": [
        "from facenet_pytorch import MTCNN\n",
        "from PIL import Image\n",
        "\n",
        "def import_local_images(start_img, end_img, show_them=False):\n",
        "    # initialize the MTCNN detector\n",
        "    mtcnn = MTCNN(image_size=224, margin=0)\n",
        "\n",
        "    # create the image list in which the images will be appended\n",
        "    img_list = []\n",
        "\n",
        "    # put the PIL images in img_list\n",
        "    for i in range(start_img,end_img+1):\n",
        "        path = str(i) + \".jpg\"\n",
        "        image = Image.open(path)\n",
        "        # print(image.size)\n",
        "        # if image.size != (1200,1600):\n",
        "        #     # print(\"found one\")\n",
        "        #     image = image.resize((1200,1600))\n",
        "        # print(image.size)\n",
        "        img_list.append(image)\n",
        "    \n",
        "    # feed images list to MTCNN network\n",
        "    images_output = mtcnn(img_list)\n",
        "        # img_cropped = transforms.ToPILImage()(im).convert(\"RGB\")\n",
        "        # plt.figure()\n",
        "        # plt.imshow(img_cropped)\n",
        "    \n",
        "    # convert list of tensors to tensor of tensors\n",
        "\n",
        "    return images_tensor\n",
        "\n",
        "def import_transf_images(start_img, end_img):\n",
        "    \n",
        "    # create the image list in which the images will be appended\n",
        "    img_transf = torch.zeros(end_img+1 - start_img, x_train[0].shape[2], x_train[0].shape[0], x_train[0].shape[1])\n",
        "    print(img_transf.shape)\n",
        "    test_transform = image_transforms['custom']\n",
        "\n",
        "    # put the PIL images in img_list\n",
        "    for i in range(start_img,end_img):\n",
        "        path = str(i) + \".jpg\"\n",
        "        image = Image.open(path)\n",
        "        img_transf[i]=test_transform(np.array(image))\n",
        "\n",
        "    return img_transf\n",
        "\n",
        "def load_images_to_recognition(start_img, end_img):\n",
        "\n",
        "    # print(tensor_list.shape)\n",
        "    tensor_list = import_transf_images(start_img, end_img)\n",
        "\n",
        "    with torch.no_grad():\n",
        "        model.eval()\n",
        "        embd = model(tensor_list.cuda())\n",
        "\n",
        "        cos = nn.CosineSimilarity(dim=0, eps=1e-6)\n",
        "\n",
        "        sim = []\n",
        "        for i in range(embd.shape[0]):\n",
        "            similarity = torch.zeros(len(embd_arr_c))\n",
        "            for j in range(len(embd_arr_c)):\n",
        "                # print(embd[i])\n",
        "                # print(embd_arr_d[j])\n",
        "                # print()\n",
        "                similarity[j] = cos(embd[i].cpu(), embd_arr_d[j])\n",
        "            # print(similarity)\n",
        "            # print(similarity.shape)\n",
        "            max_distance, index = torch.max(similarity, 0)\n",
        "            # img_cropped = transforms.ToPILImage()(tensor_list[i]).convert(\"RGB\")\n",
        "            # plt.figure()\n",
        "            # plt.imshow(img_cropped)\n",
        "            print(i, \"photo is of\", embd_arr_c[index], \"with a similarity of\", max_distance.numpy())\n",
        "            \n",
        "load_images_to_recognition(1,14)"
      ],
      "execution_count": 0,
      "outputs": [
        {
          "output_type": "stream",
          "text": [
            "torch.Size([13, 3, 224, 224])\n",
            "0 photo is of tensor(529.) with a similarity of 0.5588032\n",
            "1 photo is of tensor(1177.) with a similarity of 0.6334302\n",
            "2 photo is of tensor(6000.) with a similarity of 0.6439826\n",
            "3 photo is of tensor(1676.) with a similarity of 0.6443522\n",
            "4 photo is of tensor(781.) with a similarity of 0.6514752\n",
            "5 photo is of tensor(1307.) with a similarity of 0.65572333\n",
            "6 photo is of tensor(1307.) with a similarity of 0.6419464\n",
            "7 photo is of tensor(1307.) with a similarity of 0.6165623\n",
            "8 photo is of tensor(1177.) with a similarity of 0.63060254\n",
            "9 photo is of tensor(1307.) with a similarity of 0.63156915\n",
            "10 photo is of tensor(6000.) with a similarity of 0.6280687\n",
            "11 photo is of tensor(6000.) with a similarity of 0.6538081\n",
            "12 photo is of tensor(1307.) with a similarity of 0.56546646\n"
          ],
          "name": "stdout"
        }
      ]
    },
    {
      "cell_type": "code",
      "metadata": {
        "id": "Q3gV0pteO3tq",
        "colab_type": "code",
        "colab": {}
      },
      "source": [
        "torch.cuda.empty_cache()"
      ],
      "execution_count": 0,
      "outputs": []
    },
    {
      "cell_type": "code",
      "metadata": {
        "id": "pb94F_FUBgGz",
        "colab_type": "code",
        "colab": {}
      },
      "source": [
        "# feed images list to MTCNN network\n",
        "img = Image.open(\"6.jpg\")\n",
        "\n",
        "mtcnn = MTCNN(image_size=224, margin=80, post_process=False)\n",
        "\n",
        "images_output = mtcnn(img)\n",
        "\n",
        "img_cropped = transforms.ToPILImage()(images_output).convert(\"RGB\")\n",
        "plt.figure()\n",
        "plt.imshow(images_output.permute(1, 2, 0).int().numpy())\n",
        "\n",
        "embd = model(images_output.unsqueeze(0).cuda())\n",
        "\n",
        "# print(embd.shape)\n",
        "\n",
        "cos = nn.CosineSimilarity(dim=0, eps=1e-6)\n",
        "\n",
        "similarity = torch.zeros(len(embd_arr_c))\n",
        "for j in range(len(embd_arr_c)):\n",
        "    similarity[j] = cos(embd.squeeze(0).cpu(), embd_arr_d[j])\n",
        "max_distance, index = torch.max(similarity, 0)\n",
        "print(max_distance)\n",
        "print(similarity)"
      ],
      "execution_count": 0,
      "outputs": []
    },
    {
      "cell_type": "code",
      "metadata": {
        "id": "_7bP6MeJlZfJ",
        "colab_type": "code",
        "colab": {}
      },
      "source": [
        ""
      ],
      "execution_count": 0,
      "outputs": []
    }
  ]
}